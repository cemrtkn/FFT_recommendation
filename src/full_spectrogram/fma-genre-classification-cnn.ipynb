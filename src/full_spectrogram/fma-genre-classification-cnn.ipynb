{
 "cells": [
  {
   "cell_type": "code",
   "execution_count": null,
   "metadata": {
    "_cell_guid": "b1076dfc-b9ad-4769-8c92-a6c4dae69d19",
    "_uuid": "8f2839f25d086af736a60e9eeb907d3b93b6e0e5",
    "execution": {
     "iopub.execute_input": "2024-12-06T15:38:18.900624Z",
     "iopub.status.busy": "2024-12-06T15:38:18.900039Z",
     "iopub.status.idle": "2024-12-06T15:38:23.910606Z",
     "shell.execute_reply": "2024-12-06T15:38:23.909948Z",
     "shell.execute_reply.started": "2024-12-06T15:38:18.900596Z"
    },
    "trusted": true
   },
   "outputs": [],
   "source": [
    "from data_loader import SpectLoader\n",
    "import torch\n",
    "from torch import nn, optim\n",
    "import matplotlib.pyplot as plt\n",
    "import numpy as np\n",
    "import torch.nn.functional as F\n",
    "from torch.nn import ReLU\n",
    "from torch.optim.lr_scheduler import ReduceLROnPlateau\n",
    "from basic_model import BasicModel\n",
    "from skip_network import SkipNetwork\n",
    "from model import ConvNetwork\n",
    "from config import hdf5_path, spec_minmax_scaler_path, spec_log_transformer_path\n"
   ]
  },
  {
   "cell_type": "code",
   "execution_count": null,
   "metadata": {
    "execution": {
     "iopub.execute_input": "2024-12-06T15:38:23.912594Z",
     "iopub.status.busy": "2024-12-06T15:38:23.912138Z",
     "iopub.status.idle": "2024-12-06T15:38:23.921245Z",
     "shell.execute_reply": "2024-12-06T15:38:23.920176Z",
     "shell.execute_reply.started": "2024-12-06T15:38:23.912555Z"
    },
    "trusted": true
   },
   "outputs": [],
   "source": [
    "def data_actual_dist(pprocessor, train_keys, num_bins=50):\n",
    "    bin_edges = np.linspace(start=-1.0, stop=1.0, num=num_bins + 1)  # Adjust the range based on your data's expected value range\n",
    "\n",
    "    bin_counts = np.zeros(num_bins)\n",
    "    for x_batch, _ in pprocessor.batch_generator(train_keys):\n",
    "        resized_tensor = F.interpolate(x_batch, size=(128, 512), mode='bilinear', align_corners=False, antialias=True)\n",
    "        \n",
    "        data = resized_tensor.numpy() if hasattr(resized_tensor, 'numpy') else resized_tensor\n",
    "\n",
    "        flattened_data = data.flatten()\n",
    "\n",
    "        hist, _ = np.histogram(flattened_data, bins=bin_edges)\n",
    "        bin_counts += hist  \n",
    "\n",
    "    # Normalize the bin counts to get probabilities (optional)\n",
    "    bin_counts_normalized = bin_counts / bin_counts.sum()\n",
    "\n",
    "    plt.figure(figsize=(10, 6))\n",
    "    plt.bar(\n",
    "        bin_edges[:-1], \n",
    "        bin_counts_normalized, \n",
    "        width=np.diff(bin_edges), \n",
    "        align=\"edge\", \n",
    "        color=\"blue\", \n",
    "        alpha=0.7\n",
    "    )\n",
    "    plt.title(\"Value Distribution in x_batch\")\n",
    "    plt.xlabel(\"Value\")\n",
    "    plt.ylabel(\"Frequency (Normalized)\")\n",
    "    plt.grid(True)\n",
    "    plt.show()\n",
    "\n",
    "    return bin_edges\n",
    "\n",
    "def plot_spect(sepct):\n",
    "    plt.figure(figsize=(10, 5))  # Adjust figure size as needed\n",
    "    plt.imshow(sepct, aspect='auto', cmap='hot', origin='lower')\n",
    "    plt.colorbar(label='Intensity')  # Optional: Add a colorbar\n",
    "    plt.title('Spectrogram Heatmap')\n",
    "    plt.xlabel('Time')\n",
    "    plt.ylabel('Frequency')\n",
    "    plt.show()\n",
    "\n",
    "def plot_several(batch, n_show):\n",
    "    for i in range(n_show):\n",
    "        matrix = batch[i].squeeze(0).numpy()\n",
    "        plot_spect(matrix)\n",
    "\n",
    "\n"
   ]
  },
  {
   "cell_type": "code",
   "execution_count": null,
   "metadata": {
    "execution": {
     "iopub.execute_input": "2024-12-06T15:38:23.942310Z",
     "iopub.status.busy": "2024-12-06T15:38:23.941993Z",
     "iopub.status.idle": "2024-12-06T15:38:41.804516Z",
     "shell.execute_reply": "2024-12-06T15:38:41.803733Z",
     "shell.execute_reply.started": "2024-12-06T15:38:23.942274Z"
    },
    "trusted": true
   },
   "outputs": [],
   "source": [
    "paths = {\n",
    "        \"data_path\": hdf5_path,\n",
    "        \"scaler_path\": spec_minmax_scaler_path\n",
    "    }\n",
    "\n",
    "pprocessor = SpectLoader(paths, batch_size=32)\n",
    "train_keys, val_keys, test_keys = pprocessor.split_data()\n",
    "pprocessor.setup_pipeline(scaler_type=\"normalizer\",load_model=True)"
   ]
  },
  {
   "cell_type": "code",
   "execution_count": null,
   "metadata": {
    "execution": {
     "iopub.execute_input": "2024-12-06T15:38:41.805659Z",
     "iopub.status.busy": "2024-12-06T15:38:41.805423Z",
     "iopub.status.idle": "2024-12-06T15:38:41.810579Z",
     "shell.execute_reply": "2024-12-06T15:38:41.809832Z",
     "shell.execute_reply.started": "2024-12-06T15:38:41.805635Z"
    },
    "trusted": true
   },
   "outputs": [],
   "source": [
    "sample1_shape = pprocessor.spect_data[pprocessor.train_keys[0]]['spectrogram'].shape\n",
    "input_shape=(1, sample1_shape[0], sample1_shape[1])\n",
    "print(input_shape)"
   ]
  },
  {
   "cell_type": "code",
   "execution_count": null,
   "metadata": {
    "execution": {
     "iopub.execute_input": "2024-12-06T15:38:41.871808Z",
     "iopub.status.busy": "2024-12-06T15:38:41.871562Z",
     "iopub.status.idle": "2024-12-06T15:38:42.392291Z",
     "shell.execute_reply": "2024-12-06T15:38:42.391575Z",
     "shell.execute_reply.started": "2024-12-06T15:38:41.871784Z"
    },
    "trusted": true
   },
   "outputs": [],
   "source": [
    "model = BasicModel(input_shape=input_shape)\n",
    "total_params = sum(p.numel() for p in model.parameters())\n",
    "print(total_params)"
   ]
  },
  {
   "cell_type": "code",
   "execution_count": null,
   "metadata": {
    "execution": {
     "iopub.execute_input": "2024-12-06T15:38:42.393535Z",
     "iopub.status.busy": "2024-12-06T15:38:42.393275Z",
     "iopub.status.idle": "2024-12-06T15:38:43.321893Z",
     "shell.execute_reply": "2024-12-06T15:38:43.321004Z",
     "shell.execute_reply.started": "2024-12-06T15:38:42.393509Z"
    },
    "trusted": true
   },
   "outputs": [
    {
     "name": "stdout",
     "output_type": "stream",
     "text": [
      "3148424\n"
     ]
    }
   ],
   "source": [
    "model = SkipNetwork(channels=[128,128,128,128], input_shape=input_shape)\n",
    "total_params = sum(p.numel() for p in model.parameters())\n",
    "print(total_params)"
   ]
  },
  {
   "cell_type": "code",
   "execution_count": null,
   "metadata": {
    "execution": {
     "iopub.execute_input": "2024-12-06T15:39:07.925036Z",
     "iopub.status.busy": "2024-12-06T15:39:07.924368Z"
    },
    "trusted": true
   },
   "outputs": [],
   "source": [
    "#model = ConvNetwork(input_shape=input_shape)\n",
    "model = SkipNetwork(channels=[128,128,128,128], input_shape=input_shape)\n",
    "#model = BasicModel(input_shape=input_shape)\n",
    "device = torch.device(\"cuda\" if torch.cuda.is_available() else \"cpu\")\n",
    "model.to(device)\n",
    "\n",
    "batch_size = 16\n",
    "\n",
    "criterion = nn.CrossEntropyLoss()  # Use CrossEntropyLoss for multi-class classification\n",
    "optimizer = optim.Adam(model.parameters(), lr=0.0001)\n",
    "scheduler = ReduceLROnPlateau(optimizer, 'min', factor=0.7, patience=1)\n",
    "print(f\"1: Used CUDA memory: {torch.cuda.memory_allocated() / 1e6} MB\")\n",
    "\n",
    "for i in range(20):\n",
    "    train_accs = []\n",
    "    train_losses = []\n",
    "\n",
    "    val_accs = []\n",
    "    val_losses = []\n",
    "    for x, y in pprocessor.batch_generator(train_keys, batch_size=batch_size):\n",
    "        optimizer.zero_grad()    \n",
    "\n",
    "        outputs = model(x)\n",
    "        loss = criterion(outputs, y)\n",
    "\n",
    "        loss.backward()\n",
    "        optimizer.step()\n",
    "\n",
    "        model.eval()\n",
    "        with torch.no_grad():\n",
    "            _, preds = torch.max(outputs, 1)\n",
    "            train_accuracy = (preds == y).float().mean().item()\n",
    "\n",
    "        train_accs.append(train_accuracy)\n",
    "        train_losses.append(loss.item())\n",
    "\n",
    "        \n",
    "    model.eval()\n",
    "    with torch.no_grad():\n",
    "        for x, y in pprocessor.batch_generator(val_keys, batch_size=batch_size):\n",
    "            outputs = model(x)\n",
    "            val_loss = criterion(outputs, y).item()\n",
    "        \n",
    "            _, preds = torch.max(outputs, 1)\n",
    "            val_accuracy = (preds == y).float().mean().item()\n",
    "            \n",
    "            val_accs.append(val_accuracy)\n",
    "            val_losses.append(val_loss)\n",
    "        \n",
    "        scheduler.step(np.mean(val_losses))\n",
    "        print(f\"3: Used CUDA memory: {torch.cuda.memory_allocated() / 1e6} MB\")\n",
    "\n",
    "\n",
    "    \n",
    "    print(f'Avg. Training Loss: {np.mean(train_losses):.4f}, Avg. Train Accuracy: {np.mean(train_accs):.4f}, Val Loss: {np.mean(val_losses):.4f}, Val Accuracy: {np.mean(val_accs):.4f},')"
   ]
  }
 ],
 "metadata": {
  "kaggle": {
   "accelerator": "nvidiaTeslaT4",
   "dataSources": [
    {
     "datasetId": 6179221,
     "sourceId": 10032627,
     "sourceType": "datasetVersion"
    },
    {
     "datasetId": 6176370,
     "sourceId": 10033964,
     "sourceType": "datasetVersion"
    },
    {
     "sourceId": 209915011,
     "sourceType": "kernelVersion"
    },
    {
     "sourceId": 209967544,
     "sourceType": "kernelVersion"
    }
   ],
   "dockerImageVersionId": 30786,
   "isGpuEnabled": true,
   "isInternetEnabled": true,
   "language": "python",
   "sourceType": "notebook"
  },
  "kernelspec": {
   "display_name": "fft-recommendation-PotEYqKM-py3.10",
   "language": "python",
   "name": "python3"
  },
  "language_info": {
   "codemirror_mode": {
    "name": "ipython",
    "version": 3
   },
   "file_extension": ".py",
   "mimetype": "text/x-python",
   "name": "python",
   "nbconvert_exporter": "python",
   "pygments_lexer": "ipython3",
   "version": "3.10.14"
  }
 },
 "nbformat": 4,
 "nbformat_minor": 4
}
