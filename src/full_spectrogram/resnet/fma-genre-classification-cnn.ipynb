{
 "cells": [
  {
   "cell_type": "code",
   "execution_count": 3,
   "metadata": {
    "_cell_guid": "b1076dfc-b9ad-4769-8c92-a6c4dae69d19",
    "_uuid": "8f2839f25d086af736a60e9eeb907d3b93b6e0e5",
    "execution": {
     "iopub.execute_input": "2024-12-17T09:03:30.088552Z",
     "iopub.status.busy": "2024-12-17T09:03:30.087862Z",
     "iopub.status.idle": "2024-12-17T09:03:30.095104Z",
     "shell.execute_reply": "2024-12-17T09:03:30.093895Z",
     "shell.execute_reply.started": "2024-12-17T09:03:30.088502Z"
    },
    "trusted": true
   },
   "outputs": [],
   "source": [
    "import torch\n",
    "from torch import nn, optim\n",
    "import matplotlib.pyplot as plt\n",
    "import numpy as np\n",
    "import librosa\n",
    "import torch.nn.functional as F\n",
    "from torch.nn import ReLU\n",
    "from torch.optim.lr_scheduler import ReduceLROnPlateau\n",
    "\n",
    "import sys, os\n",
    "sys.path.insert(0, os.path.pardir)\n",
    "from data_loader import SpectLoader\n",
    "from config import hdf5_path, spec_minmax_scaler_path, spec_log_transformer_path\n"
   ]
  },
  {
   "cell_type": "code",
   "execution_count": null,
   "metadata": {
    "execution": {
     "iopub.execute_input": "2024-12-13T15:34:34.439147Z",
     "iopub.status.busy": "2024-12-13T15:34:34.438786Z",
     "iopub.status.idle": "2024-12-13T15:34:34.447543Z",
     "shell.execute_reply": "2024-12-13T15:34:34.446710Z",
     "shell.execute_reply.started": "2024-12-13T15:34:34.439120Z"
    },
    "trusted": true
   },
   "outputs": [],
   "source": [
    "def data_actual_dist(pprocessor, train_keys, num_bins=50):\n",
    "    bin_edges = np.linspace(start=-1.0, stop=1.0, num=num_bins + 1)  # Adjust the range based on your data's expected value range\n",
    "\n",
    "    bin_counts = np.zeros(num_bins)\n",
    "    for x_batch, _ in pprocessor.batch_generator(train_keys):\n",
    "        resized_tensor = F.interpolate(x_batch, size=(128, 512), mode='bilinear', align_corners=False, antialias=True)\n",
    "        \n",
    "        data = resized_tensor.numpy() if hasattr(resized_tensor, 'numpy') else resized_tensor\n",
    "\n",
    "        flattened_data = data.flatten()\n",
    "\n",
    "        hist, _ = np.histogram(flattened_data, bins=bin_edges)\n",
    "        bin_counts += hist  \n",
    "\n",
    "    # Normalize the bin counts to get probabilities (optional)\n",
    "    bin_counts_normalized = bin_counts / bin_counts.sum()\n",
    "\n",
    "    plt.figure(figsize=(10, 6))\n",
    "    plt.bar(\n",
    "        bin_edges[:-1], \n",
    "        bin_counts_normalized, \n",
    "        width=np.diff(bin_edges), \n",
    "        align=\"edge\", \n",
    "        color=\"blue\", \n",
    "        alpha=0.7\n",
    "    )\n",
    "    plt.title(\"Value Distribution in x_batch\")\n",
    "    plt.xlabel(\"Value\")\n",
    "    plt.ylabel(\"Frequency (Normalized)\")\n",
    "    plt.grid(True)\n",
    "    plt.show()\n",
    "\n",
    "    return bin_edges\n",
    "\n",
    "def plot_spect(sepct):\n",
    "    plt.figure(figsize=(10, 5))  # Adjust figure size as needed\n",
    "    plt.imshow(sepct, aspect='auto', cmap='hot', origin='lower')\n",
    "    plt.colorbar(label='Intensity')  # Optional: Add a colorbar\n",
    "    plt.title('Spectrogram Heatmap')\n",
    "    plt.xlabel('Time')\n",
    "    plt.ylabel('Frequency')\n",
    "    plt.show()\n",
    "\n",
    "def plot_several(batch, n_show):\n",
    "    for i in range(n_show):\n",
    "        matrix = batch[i].squeeze(0).numpy()\n",
    "        plot_spect(matrix)\n",
    "\n",
    "\n"
   ]
  },
  {
   "cell_type": "code",
   "execution_count": 9,
   "metadata": {
    "execution": {
     "iopub.execute_input": "2024-12-17T09:04:14.744423Z",
     "iopub.status.busy": "2024-12-17T09:04:14.744023Z",
     "iopub.status.idle": "2024-12-17T09:04:14.749458Z",
     "shell.execute_reply": "2024-12-17T09:04:14.748320Z",
     "shell.execute_reply.started": "2024-12-17T09:04:14.744388Z"
    },
    "trusted": true
   },
   "outputs": [],
   "source": [
    "data_path = hdf5_path\n",
    "spec_minmax_scaler_path = spec_minmax_scaler_path"
   ]
  },
  {
   "cell_type": "code",
   "execution_count": 10,
   "metadata": {
    "execution": {
     "iopub.execute_input": "2024-12-17T09:04:17.545310Z",
     "iopub.status.busy": "2024-12-17T09:04:17.544920Z",
     "iopub.status.idle": "2024-12-17T09:04:21.060996Z",
     "shell.execute_reply": "2024-12-17T09:04:21.059940Z",
     "shell.execute_reply.started": "2024-12-17T09:04:17.545278Z"
    },
    "trusted": true
   },
   "outputs": [
    {
     "name": "stdout",
     "output_type": "stream",
     "text": [
      "{'feature_range': (-1, 1), 'min_': -100.0, 'scale_': 212.16319274902344}\n",
      "feature_range\n",
      "min_\n",
      "scale_\n"
     ]
    }
   ],
   "source": [
    "paths = {\n",
    "        \"data_path\": data_path,\n",
    "        \"scaler_path\": spec_minmax_scaler_path\n",
    "    }\n",
    "\n",
    "pprocessor = SpectLoader(paths, batch_size=32)\n",
    "train_keys, val_keys, test_keys = pprocessor.split_data()\n",
    "pprocessor.setup_pipeline(scaler_type=\"normalizer\",load_model=True)"
   ]
  },
  {
   "cell_type": "code",
   "execution_count": 11,
   "metadata": {
    "execution": {
     "iopub.execute_input": "2024-12-17T09:04:21.063031Z",
     "iopub.status.busy": "2024-12-17T09:04:21.062641Z",
     "iopub.status.idle": "2024-12-17T09:04:21.069432Z",
     "shell.execute_reply": "2024-12-17T09:04:21.068459Z",
     "shell.execute_reply.started": "2024-12-17T09:04:21.062933Z"
    },
    "trusted": true
   },
   "outputs": [
    {
     "name": "stdout",
     "output_type": "stream",
     "text": [
      "(1, 256, 646)\n"
     ]
    }
   ],
   "source": [
    "sample1_shape = pprocessor.spect_data[pprocessor.train_keys[0]]['spectrogram'].shape\n",
    "input_shape=(1, sample1_shape[0], sample1_shape[1])\n",
    "print(input_shape)"
   ]
  },
  {
   "cell_type": "code",
   "execution_count": 5,
   "metadata": {
    "execution": {
     "iopub.execute_input": "2024-12-17T08:22:59.399094Z",
     "iopub.status.busy": "2024-12-17T08:22:59.398697Z",
     "iopub.status.idle": "2024-12-17T08:22:59.404185Z",
     "shell.execute_reply": "2024-12-17T08:22:59.403144Z",
     "shell.execute_reply.started": "2024-12-17T08:22:59.399032Z"
    },
    "trusted": true
   },
   "outputs": [
    {
     "name": "stdout",
     "output_type": "stream",
     "text": [
      "1596\n"
     ]
    }
   ],
   "source": [
    "print(len(test_keys))"
   ]
  },
  {
   "cell_type": "code",
   "execution_count": 6,
   "metadata": {
    "execution": {
     "iopub.execute_input": "2024-12-17T09:03:50.332241Z",
     "iopub.status.busy": "2024-12-17T09:03:50.331818Z",
     "iopub.status.idle": "2024-12-17T09:03:50.340048Z",
     "shell.execute_reply": "2024-12-17T09:03:50.338967Z",
     "shell.execute_reply.started": "2024-12-17T09:03:50.332206Z"
    },
    "trusted": true
   },
   "outputs": [],
   "source": [
    "class ResidualBlock(nn.Module):\n",
    "    def __init__(self, in_channels, out_channels,stride = 1, downsample = None):\n",
    "        super(ResidualBlock, self).__init__()\n",
    "        self.conv1 = nn.Sequential(\n",
    "                        nn.Conv2d(in_channels, out_channels, kernel_size = 3, stride = stride, padding = 1),\n",
    "                        nn.BatchNorm2d(out_channels),\n",
    "                        nn.ReLU())\n",
    "        self.conv2 = nn.Sequential(\n",
    "                        nn.Conv2d(out_channels, out_channels, kernel_size = 3, stride = stride, padding = 1),\n",
    "                        nn.BatchNorm2d(out_channels),\n",
    "        )\n",
    "        self.downsample = downsample\n",
    "        self.relu = nn.ReLU()\n",
    "        self.maxpool = nn.MaxPool2d(kernel_size = 4)\n",
    "        self.out_channels = out_channels\n",
    "\n",
    "    def forward(self, x):\n",
    "        residual = x\n",
    "        out = self.conv1(x)\n",
    "        out = self.conv2(out)\n",
    "        if self.downsample:\n",
    "            residual = self.downsample(x)\n",
    "        out += residual\n",
    "        out = self.relu(out)\n",
    "        out = self.maxpool(out)\n",
    "        return out"
   ]
  },
  {
   "cell_type": "code",
   "execution_count": 7,
   "metadata": {
    "execution": {
     "iopub.execute_input": "2024-12-17T09:03:52.226928Z",
     "iopub.status.busy": "2024-12-17T09:03:52.226490Z",
     "iopub.status.idle": "2024-12-17T09:03:52.238419Z",
     "shell.execute_reply": "2024-12-17T09:03:52.237212Z",
     "shell.execute_reply.started": "2024-12-17T09:03:52.226885Z"
    },
    "trusted": true
   },
   "outputs": [],
   "source": [
    "class SkipNetwork(nn.Module):\n",
    "    def __init__(self, block, channels, input_shape):\n",
    "        super(SkipNetwork, self).__init__()\n",
    "        \n",
    "        self.channels = channels\n",
    "        self.conv_layers = nn.ModuleList()\n",
    "        \n",
    "        for layer_id, out_channels in enumerate(self.channels):\n",
    "            conv_layer = self._make_conv_layer(block, out_channels, layer_id, stride = 1)\n",
    "            self.conv_layers.append(conv_layer)\n",
    "                \n",
    "        self.outconv = nn.Sequential(\n",
    "            nn.Conv2d(in_channels=channels[-1], out_channels=512, kernel_size=1, stride=1, padding=0),\n",
    "            nn.BatchNorm2d(512),\n",
    "            nn.ReLU(),\n",
    "            nn.Dropout(0.4)\n",
    "        )\n",
    "        self._to_linear = self._calculate_flatten_size(input_shape)\n",
    "\n",
    "        self.fc1 = nn.Sequential(\n",
    "                nn.Linear(self._to_linear, 1024),\n",
    "                nn.BatchNorm1d(1024),\n",
    "                nn.ReLU(),\n",
    "                nn.Dropout(0.5)\n",
    "            )\n",
    "\n",
    "        self.head = nn.Linear(1024, 8)\n",
    "\n",
    "\n",
    "    def _calculate_flatten_size(self, input_shape):\n",
    "        x = torch.zeros(1, *input_shape)\n",
    "        for layer in self.conv_layers:\n",
    "            x = layer(x)\n",
    "        x = self.outconv(x)\n",
    "        #x = self.avgpool(x)\n",
    "        return x.numel()\n",
    "\n",
    "    def _make_conv_layer(self, block, out_channels, layer_id, stride=1):\n",
    "        downsample = None\n",
    "        if layer_id == 0:\n",
    "            in_channels = 1 # first layer\n",
    "        else:\n",
    "            in_channels = self.channels[layer_id-1] \n",
    "            \n",
    "        if stride != 1 or in_channels != out_channels:\n",
    "            downsample = nn.Sequential(\n",
    "                nn.Conv2d(in_channels, out_channels, kernel_size=1, stride=stride),\n",
    "                nn.BatchNorm2d(out_channels),\n",
    "            )\n",
    "        layers = []\n",
    "        layers.append(block(in_channels, out_channels, stride=stride, downsample=downsample))\n",
    "\n",
    "        return nn.Sequential(*layers)\n",
    "\n",
    "    def forward(self, x):\n",
    "        for layer in self.conv_layers:\n",
    "            x = layer(x)\n",
    "        \n",
    "        x = self.outconv(x)\n",
    "        x = x.view(x.size(0), -1)\n",
    "        \n",
    "        x = self.fc1(x)\n",
    "        x = self.head(x) \n",
    "        return x"
   ]
  },
  {
   "cell_type": "code",
   "execution_count": null,
   "metadata": {
    "execution": {
     "iopub.execute_input": "2024-12-13T15:34:46.709423Z",
     "iopub.status.busy": "2024-12-13T15:34:46.709178Z",
     "iopub.status.idle": "2024-12-13T15:34:46.878547Z",
     "shell.execute_reply": "2024-12-13T15:34:46.877373Z",
     "shell.execute_reply.started": "2024-12-13T15:34:46.709399Z"
    },
    "trusted": true
   },
   "outputs": [],
   "source": [
    "model = BasicModel(input_shape=input_shape)\n",
    "total_params = sum(p.numel() for p in model.parameters())\n",
    "print(total_params)"
   ]
  },
  {
   "cell_type": "code",
   "execution_count": null,
   "metadata": {
    "execution": {
     "iopub.status.busy": "2024-12-13T15:34:46.879360Z",
     "iopub.status.idle": "2024-12-13T15:34:46.879702Z",
     "shell.execute_reply": "2024-12-13T15:34:46.879538Z",
     "shell.execute_reply.started": "2024-12-13T15:34:46.879521Z"
    },
    "trusted": true
   },
   "outputs": [],
   "source": [
    "model = SkipNetwork(ResidualBlock, channels=[128,128,256,256], input_shape=input_shape)\n",
    "total_params = sum(p.numel() for p in model.parameters())\n",
    "print(total_params)"
   ]
  },
  {
   "cell_type": "code",
   "execution_count": null,
   "metadata": {
    "execution": {
     "iopub.execute_input": "2024-12-13T15:34:49.038842Z",
     "iopub.status.busy": "2024-12-13T15:34:49.038509Z",
     "iopub.status.idle": "2024-12-13T15:41:15.870867Z",
     "shell.execute_reply": "2024-12-13T15:41:15.869733Z",
     "shell.execute_reply.started": "2024-12-13T15:34:49.038815Z"
    },
    "trusted": true
   },
   "outputs": [],
   "source": [
    "#model = ConvNetwork(input_shape=input_shape)\n",
    "model = SkipNetwork(ResidualBlock, channels=[128,128,256,256], input_shape=input_shape)\n",
    "#model = BasicModel(input_shape=input_shape)\n",
    "device = torch.device(\"cuda\" if torch.cuda.is_available() else \"cpu\")\n",
    "model.to(device)\n",
    "\n",
    "batch_size = 16\n",
    "\n",
    "criterion = nn.CrossEntropyLoss()  # Use CrossEntropyLoss for multi-class classification\n",
    "optimizer = optim.Adam(model.parameters(), lr=0.0001)\n",
    "scheduler = ReduceLROnPlateau(optimizer, 'min', factor=0.7, patience=1)\n",
    "print(f\"1: Used CUDA memory: {torch.cuda.memory_allocated() / 1e6} MB\")\n",
    "\n",
    "\n",
    "best_val_loss = float('inf')  # Keep track of the best validation loss\n",
    "best_model_state = None       # To store the state_dict of the best model\n",
    "\n",
    "for i in range(20):\n",
    "    train_accs = []\n",
    "    train_losses = []\n",
    "\n",
    "    val_accs = []\n",
    "    val_losses = []\n",
    "    for x, y in pprocessor.batch_generator(train_keys, batch_size=batch_size):\n",
    "        optimizer.zero_grad()    \n",
    "\n",
    "        outputs = model(x)\n",
    "        loss = criterion(outputs, y)\n",
    "\n",
    "        loss.backward()\n",
    "        optimizer.step()\n",
    "\n",
    "        model.eval()\n",
    "        with torch.no_grad():\n",
    "            _, preds = torch.max(outputs, 1)\n",
    "            train_accuracy = (preds == y).float().mean().item()\n",
    "\n",
    "        train_accs.append(train_accuracy)\n",
    "        train_losses.append(loss.item())\n",
    "\n",
    "        \n",
    "    model.eval()\n",
    "    with torch.no_grad():\n",
    "        for x, y in pprocessor.batch_generator(val_keys, batch_size=batch_size):\n",
    "            outputs = model(x)\n",
    "            val_loss = criterion(outputs, y).item()\n",
    "        \n",
    "            _, preds = torch.max(outputs, 1)\n",
    "            val_accuracy = (preds == y).float().mean().item()\n",
    "            \n",
    "            val_accs.append(val_accuracy)\n",
    "            val_losses.append(val_loss)\n",
    "        \n",
    "        scheduler.step(np.mean(val_losses))\n",
    "        print(f\"3: Used CUDA memory: {torch.cuda.memory_allocated() / 1e6} MB\")\n",
    "        \n",
    "        # Track the best model based on validation loss\n",
    "        mean_val_loss = np.mean(val_losses)\n",
    "        if mean_val_loss < best_val_loss:\n",
    "            best_val_loss = mean_val_loss\n",
    "            best_model_state = model.state_dict() \n",
    "\n",
    "    \n",
    "    print(f'Avg. Training Loss: {np.mean(train_losses):.4f}, Avg. Train Accuracy: {np.mean(train_accs):.4f}, Val Loss: {np.mean(val_losses):.4f}, Val Accuracy: {np.mean(val_accs):.4f},')\n",
    "\n",
    "\n",
    "# Save the best model at the end of training\n",
    "if best_model_state is not None:\n",
    "    torch.save(best_model_state, \"best_model.pth\")\n",
    "    print(f\"Training complete. Best model saved with Val Loss: {best_val_loss:.4f}\")"
   ]
  }
 ],
 "metadata": {
  "kaggle": {
   "accelerator": "nvidiaTeslaT4",
   "dataSources": [
    {
     "datasetId": 6179221,
     "sourceId": 10032627,
     "sourceType": "datasetVersion"
    },
    {
     "datasetId": 6176370,
     "sourceId": 10033964,
     "sourceType": "datasetVersion"
    },
    {
     "sourceId": 209915011,
     "sourceType": "kernelVersion"
    },
    {
     "sourceId": 209967544,
     "sourceType": "kernelVersion"
    }
   ],
   "dockerImageVersionId": 30786,
   "isGpuEnabled": true,
   "isInternetEnabled": true,
   "language": "python",
   "sourceType": "notebook"
  },
  "kernelspec": {
   "display_name": "Python 3",
   "language": "python",
   "name": "python3"
  },
  "language_info": {
   "codemirror_mode": {
    "name": "ipython",
    "version": 3
   },
   "file_extension": ".py",
   "mimetype": "text/x-python",
   "name": "python",
   "nbconvert_exporter": "python",
   "pygments_lexer": "ipython3",
   "version": "3.10.14"
  }
 },
 "nbformat": 4,
 "nbformat_minor": 4
}
